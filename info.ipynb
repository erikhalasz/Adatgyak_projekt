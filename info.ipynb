{
 "cells": [
  {
   "cell_type": "markdown",
   "metadata": {},
   "source": [
    "# Mit tartalmaz az adathalmaz?\n",
    "\n",
    "Minden feature páciensek FDA (fine-needle aspiration)-jából van számolva. Ez egy olyan eljárás, ahol egy tűvel sejtmintát vesznek az ember melléből. Ezt utána mikroszkóp alatt megvizsgálják és az így látott kép kerül feldolgozásra, a feature-ok is innen számolódnak.\n",
    "\n",
    "<div>\n",
    "    <img src=\"fna.jpg\" width=500 />\n",
    "</div>\n",
    "\n",
    "Feature-ök:\n",
    "1) ID number\n",
    "2) Diagnosis (M = malignant, B = benign)<br>\n",
    "\n",
    "3-12)\n",
    "\n",
    "10 valós értékũ feature minden sejtmagról:\n",
    "<br>\n",
    "a) radius (a sejtmag közepétől a széléig vett távolságok átlaga)<br>\n",
    "b) texture (gray-scale értékek (0-255) szórása)<br>\n",
    "c) perimeter<br>\n",
    "d) area<br>\n",
    "e) smoothness (a radius szórása)<br>\n",
    "f) compactness (perimeter^2 / area - 1.0)<br>\n",
    "g) concavity (konkáv pontok súlyossága a körvonalon)<br>\n",
    "h) concave points (konkáv pontok száma a körvonalon)<br>\n",
    "i) symmetry<br>\n",
    "j) fractal dimension (\"coastline approximation\" - 1)<br>\n",
    "<br>\n",
    "\n",
    "Minden featurenél 3 érték van számolva: az átlag, a standard hiba és a három legnagyobb érték átlaga. Pl.: 3. sor az átlag radius, 13. a radius standard hibája, a 23. a 3 legnagyobb radius átlaga."
   ]
  }
 ],
 "metadata": {
  "language_info": {
   "name": "python"
  }
 },
 "nbformat": 4,
 "nbformat_minor": 2
}
